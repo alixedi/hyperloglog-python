{
 "cells": [
  {
   "cell_type": "markdown",
   "metadata": {},
   "source": [
    "# HyperLogLogs with Python\n",
    "A HyperLogLog is a probabilistic data structure used to estimate the number of elements contained in a set, without having to store the whole set. HLLs are extensively used in big data pipelines, where storing all distinct elements often incurs a prohibitive cost.\n",
    "The initial idea has been originally published in a paper by Flajolet et al. [1] (very worth reading), and various practical improvements have been proposed in [2].\n",
    "\n",
    "I wrote this notebook to experiment with HLLs, and in particular with the memory/performance tradeoffs in Python. I'll write several implementations of HLL, which will be mostly standalone and won't share much code. This is intended, as I've observed that the overhead of calling functions (e.g., each time an element is added to the HLL) may have non-negligible impact on performance.\n",
    "\n",
    "#### References\n",
    "[1]: Flajolet, Philippe, et al. \"Hyperloglog: the analysis of a near-optimal cardinality estimation algorithm.\" DMTCS Proceedings. 2008.\n",
    "\n",
    "[2]: Heule, Stefan, et al. \"HyperLogLog in practice: algorithmic engineering of a state of the art cardinality estimation algorithm.\" Proceedings of the 16th International Conference on Extending Database Technology. 2013."
   ]
  },
  {
   "cell_type": "markdown",
   "metadata": {},
   "source": [
    "## A Primer on HyperLogLog\n",
    "Let $h(x)$ be a (perfectly uniform) hash of a given item $x$ and let $\\rho(h(x))$ be the position of the leftmost `1` in $h(x)$. \n",
    "\n",
    "HLLs are based on the observation that if the maximum value taken by $\\rho(h(x))$ over all values $v$ of a set $\\mathcal{M}$ is $M$, then the cardinality of $\\mathcal{M}$ is approximately $2^M$.\n",
    "\n",
    "Although it holds on average, this estimation is very noisy (it uses a granularity in powers of two). To reduce this variability, HLLs maintain $m$ versions of $M$ in $m$ registers, which are written $M[j],\\, 0 < j < m$.\n",
    "Now, when an item $x$ is added to the set, the HLL updates a single register, whose index $j$ is taken from the first $p := \\log_2(m)$ bits of $h(x)$, and $M[j]$ is set to $\\max(M[j], \\rho(h(v)[p:])$, where the notation $h(v)[p:]$ indicates that we consider only the bits of $h(v)$ starting at index $p$ (that is, the bits remaining after we choose $j$).\n",
    "\n",
    "When estimating cardinality, one takes the harmonic mean of $2^{M[j]}\\, 0 < j < m$. The harmonic mean is used to obtain low-variance estimates (compared to other kinds of averaging). It introduces biais, however. Fortunately, the biais can be computed (as a function of $m$) and compensated for [1]. They are denoted $\\alpha(m)$."
   ]
  },
  {
   "cell_type": "markdown",
   "metadata": {},
   "source": [
    "## A Base Class for HLLs:\n",
    "Let's start by defining a base class which provides `add()` and `estimate()` methods (respectively to add elements to the HLL and estimate the cardinality).\n",
    "\n",
    "The variable $p$ denotes the number of bits used to adress the registers, and there are $m = 2^p$ registers.\n",
    "The variable `nr_bits` denotes the number of bits stored in each registers (but it won't be used until later). The $\\alpha$'s coefficients come from [1] and will be used in the estimation phase to compensate for the multiplicative biais."
   ]
  },
  {
   "cell_type": "code",
   "execution_count": 37,
   "metadata": {
    "collapsed": false
   },
   "outputs": [],
   "source": [
    "from abc import ABCMeta, abstractmethod\n",
    "\n",
    "class HLL(object):\n",
    "    __metaclass__ = ABCMeta\n",
    "    \n",
    "    @abstractmethod\n",
    "    def __init__(self, p=10, nr_bits=6):\n",
    "        self.p = p\n",
    "        self.m = 1 << p  # number of registers\n",
    "        self.nr_bits = nr_bits  # number of bits per register (when applicable)\n",
    "        small_alphas = {16: 0.673, 32: 0.697, 64: 0.709}\n",
    "        if self.m in small_alphas:\n",
    "            self.alpha = small_alphas[self.m]\n",
    "        elif self.m >= 128:  # and ((self.m & (self.m - 1)) == 0):\n",
    "            self.alpha = 0.7213/(1.0 + 1.079/ float(self.m))\n",
    "    \n",
    "    @abstractmethod\n",
    "    def add(self, item):\n",
    "        pass\n",
    "    \n",
    "    @abstractmethod\n",
    "    def estimate(self):\n",
    "        pass"
   ]
  },
  {
   "cell_type": "markdown",
   "metadata": {},
   "source": [
    "## A Naive implementation:\n",
    "When adding a new item $x$, both the register index $j$ and $\\rho(h(v))$ need to be uniquely determined by $x$ in a pseudo-uniformly-at-random fashion. We can then just seed Python's PRNG with $x$ and use it to sample new random bits when needed."
   ]
  },
  {
   "cell_type": "code",
   "execution_count": 46,
   "metadata": {
    "collapsed": false
   },
   "outputs": [],
   "source": [
    "import random\n",
    "import math\n",
    "\n",
    "class HLL1(HLL):\n",
    "    def __init__(self, p):\n",
    "        super(HLL1, self).__init__(p)\n",
    "        self.registers = [0 for _ in xrange(self.m)]        \n",
    "        \n",
    "    def add(self, item):\n",
    "        random.seed(item)\n",
    "        \n",
    "        # choose stream:\n",
    "        j = random.choice(xrange(self.m))\n",
    "\n",
    "        # count leading zeros:\n",
    "        count = 1\n",
    "        while True:\n",
    "            if bool(random.getrandbits(1)) == 0:\n",
    "                count += 1\n",
    "            else:\n",
    "                break\n",
    "        self.registers[j] = count if count > self.registers[j] else self.registers[j]\n",
    "    \n",
    "    def estimate(self):\n",
    "        Z = 1.0/sum([2.0 ** (-1.0 * Mj) for Mj in self.registers])\n",
    "        E = self.alpha * self.m ** 2 * Z\n",
    "        \n",
    "        # small-range corrections:\n",
    "        if E <= 2.5 * self.m:\n",
    "            V = sum([1 for i in xrange(self.m) if self.registers[i] == 0])\n",
    "            if V > 0:\n",
    "                E = self.m * math.log(float(self.m)/float(V))\n",
    "                \n",
    "        # large-range corrections not needed as we don't have the 32-bit hash limitation of the original paper\n",
    "        return E"
   ]
  },
  {
   "cell_type": "markdown",
   "metadata": {},
   "source": [
    "### Accuracy/Performance Evaluation\n",
    "I define below a function that I'll re-use throughout the notebook, whose purpose is to add `nr_experiments` times `N` elements to the HLL. For simplicity, I'll use integers."
   ]
  },
  {
   "cell_type": "code",
   "execution_count": 60,
   "metadata": {
    "collapsed": false
   },
   "outputs": [],
   "source": [
    "import matplotlib.pyplot as plt\n",
    "%matplotlib inline\n",
    "\n",
    "\"\"\" This function serves to both measure accuracy and as a performance benchmarks for\n",
    "    many consecutive add() operations.\n",
    "    \n",
    "    N represents the cardinality. The data points themselves are chosen with a random offset\n",
    "    between 0 and 2^64  (in order to generate different datasets w.h.p.)\n",
    "\"\"\"\n",
    "def measure_add(hll_impl=HLL1, p=10, nr_experiments=20, N=10000, plot=False, verbose=False):\n",
    "    errors = []\n",
    "    random.seed(1)  # we always use the same set of datasets for comparison\n",
    "    for _ in xrange(nr_experiments):\n",
    "        hll = hll_impl(p)\n",
    "        offset = random.randint(0, long(math.pow(2,64)))\n",
    "        for i in xrange(N):\n",
    "            hll.add(offset + i)\n",
    "\n",
    "        errors.append(N - hll.estimate())\n",
    "        \n",
    "        if verbose:\n",
    "            print 'registers:', hll.registers\n",
    "            print 'true cardinality:', len(ground_truth)\n",
    "            print 'estimate:', hll.estimate()\n",
    "            print 'standard error:', len(ground_truth) * 1.04/math.sqrt(float(m))\n",
    "            \n",
    "    if plot:\n",
    "        plt.hist(np.array(errors)/float(N), bins=min(10, nr_experiments/3))\n",
    "        plt.xlabel('error')\n",
    "        plt.ylabel('count')\n",
    "        plt.show()"
   ]
  },
  {
   "cell_type": "markdown",
   "metadata": {},
   "source": [
    "Let's see how accurate our HLL is. The cell below should plot a rough histogram of the errors it makes."
   ]
  },
  {
   "cell_type": "code",
   "execution_count": 61,
   "metadata": {
    "collapsed": false
   },
   "outputs": [
    {
     "data": {
      "image/png": "[encoded data removed]",
      "text/plain": [
       "<matplotlib.figure.Figure at 0x1074408d0>"
      ]
     },
     "metadata": {},
     "output_type": "display_data"
    }
   ],
   "source": [
    "measure_add(plot=True, p=11, nr_experiments=50, N=20000)"
   ]
  },
  {
   "cell_type": "markdown",
   "metadata": {},
   "source": [
    "And how it performs in terms of computation time:"
   ]
  },
  {
   "cell_type": "code",
   "execution_count": 56,
   "metadata": {
    "collapsed": false
   },
   "outputs": [
    {
     "name": "stdout",
     "output_type": "stream",
     "text": [
      "         1600136 function calls in 2.882 seconds\n",
      "\n",
      "   Ordered by: standard name\n",
      "\n",
      "   ncalls  tottime  percall  cumtime  percall filename:lineno(function)\n",
      "       20    0.000    0.000    0.000    0.000 <ipython-input-37-17b02e269e7e>:6(__init__)\n",
      "       20    0.004    0.000    0.004    0.000 <ipython-input-46-9893b3485d97>:24(estimate)\n",
      "       20    0.001    0.000    0.001    0.000 <ipython-input-46-9893b3485d97>:5(__init__)\n",
      "   200000    0.475    0.000    2.799    0.000 <ipython-input-46-9893b3485d97>:9(add)\n",
      "        1    0.077    0.077    2.882    2.882 <ipython-input-54-10e827fa0f07>:10(measure_add)\n",
      "        1    0.000    0.000    2.882    2.882 <string>:1(<module>)\n",
      "   200001    0.172    0.000    1.778    0.000 random.py:100(seed)\n",
      "       20    0.000    0.000    0.000    0.000 random.py:175(randrange)\n",
      "       20    0.000    0.000    0.000    0.000 random.py:238(randint)\n",
      "       20    0.000    0.000    0.000    0.000 random.py:244(_randbelow)\n",
      "   200000    0.161    0.000    0.396    0.000 random.py:273(choice)\n",
      "   200001    1.606    0.000    1.606    0.000 {function seed at 0x103ac78c0}\n",
      "   200000    0.016    0.000    0.016    0.000 {len}\n",
      "       20    0.000    0.000    0.000    0.000 {math.log}\n",
      "       20    0.000    0.000    0.000    0.000 {math.pow}\n",
      "       20    0.000    0.000    0.000    0.000 {method 'append' of 'list' objects}\n",
      "        1    0.000    0.000    0.000    0.000 {method 'disable' of '_lsprof.Profiler' objects}\n",
      "   399931    0.149    0.000    0.149    0.000 {method 'getrandbits' of '_random.Random' objects}\n",
      "   200000    0.220    0.000    0.220    0.000 {method 'random' of '_random.Random' objects}\n",
      "       20    0.000    0.000    0.000    0.000 {sum}\n",
      "\n",
      "\n"
     ]
    }
   ],
   "source": [
    "# and in terms of computing time:\n",
    "import cProfile\n",
    "cProfile.run('measure_add()')"
   ]
  },
  {
   "cell_type": "markdown",
   "metadata": {},
   "source": [
    "The execution spends a lot of time in `function seed`. Let's try to avoid that."
   ]
  },
  {
   "cell_type": "markdown",
   "metadata": {},
   "source": [
    "### An implementation using a hash function:\n",
    "Our first implementation above has the merit of being very simple, but it makes extensive use of calls to `random` functions, which can take a lot of time. We'll now try to write a HLL object that uses a (unique) hash of the added items (as proposed in the original paper). Note that it's important that the hash function be as uniform (or \"cryptographic\") as possible in order to guarantee the accuracy of estimates -- in particular, python's native `hash` function is very fast but not uniform. We use MD5 here."
   ]
  },
  {
   "cell_type": "code",
   "execution_count": 57,
   "metadata": {
    "collapsed": false
   },
   "outputs": [],
   "source": [
    "import hashlib\n",
    "\n",
    "class HLL2(HLL):\n",
    "    def __init__(self, p):\n",
    "        super(HLL2, self).__init__(p)\n",
    "        self.registers = [0 for _ in xrange(self.m)]\n",
    "        self.registerMask = (1 << p) - 1\n",
    "        \n",
    "    def add(self, item):\n",
    "        h = hash(hashlib.md5(str(item)).digest())  # TODO: improve; this is not satisfying (native hash is nonuniform)\n",
    "        if h < 0: h = -h  # for easier bitwise operations\n",
    "        \n",
    "        j = h & self.registerMask\n",
    "\n",
    "        for i in xrange(64 - self.p):\n",
    "            if(h & (1 << self.p + i)) > 0:\n",
    "                break\n",
    "\n",
    "        self.registers[j] = i+1 if i+1 > self.registers[j] else self.registers[j]\n",
    "    \n",
    "    def estimate(self):\n",
    "        Z = 1.0/sum([2.0 ** (-1.0 * Mj) for Mj in self.registers])\n",
    "        E = self.alpha * self.m ** 2 * Z\n",
    "        \n",
    "        # small-range corrections:\n",
    "        if E <= 2.5 * self.m:\n",
    "            V = sum([1 for i in xrange(self.m) if self.registers[i] == 0])\n",
    "            if V > 0:\n",
    "                E = self.m * math.log(float(self.m)/float(V))\n",
    "        return E    "
   ]
  },
  {
   "cell_type": "code",
   "execution_count": 62,
   "metadata": {
    "collapsed": false
   },
   "outputs": [
    {
     "data": {
      "image/png": "[encoded data removed]",
      "text/plain": [
       "<matplotlib.figure.Figure at 0x106b70310>"
      ]
     },
     "metadata": {},
     "output_type": "display_data"
    }
   ],
   "source": [
    "measure_add(hll_impl=HLL2, plot=True, nr_experiments=300, N=40000, p=11)"
   ]
  },
  {
   "cell_type": "code",
   "execution_count": 9,
   "metadata": {
    "collapsed": false
   },
   "outputs": [
    {
     "name": "stdout",
     "output_type": "stream",
     "text": [
      "         800248 function calls in 0.964 seconds\n",
      "\n",
      "   Ordered by: standard name\n",
      "\n",
      "   ncalls  tottime  percall  cumtime  percall filename:lineno(function)\n",
      "       20    0.000    0.000    0.000    0.000 <ipython-input-2-17b02e269e7e>:6(__init__)\n",
      "        1    0.095    0.095    0.964    0.964 <ipython-input-4-f79f6ebb80d1>:10(measure_add)\n",
      "       20    0.005    0.000    0.005    0.000 <ipython-input-7-8f8e24f4854a>:23(estimate)\n",
      "       20    0.001    0.000    0.001    0.000 <ipython-input-7-8f8e24f4854a>:4(__init__)\n",
      "   200000    0.564    0.000    0.862    0.000 <ipython-input-7-8f8e24f4854a>:9(add)\n",
      "        1    0.000    0.000    0.964    0.964 <string>:1(<module>)\n",
      "        1    0.000    0.000    0.000    0.000 random.py:100(seed)\n",
      "       20    0.000    0.000    0.000    0.000 random.py:175(randrange)\n",
      "       20    0.000    0.000    0.000    0.000 random.py:238(randint)\n",
      "       20    0.000    0.000    0.000    0.000 random.py:244(_randbelow)\n",
      "   200000    0.161    0.000    0.161    0.000 {_hashlib.openssl_md5}\n",
      "        1    0.000    0.000    0.000    0.000 {function seed at 0x103ac78c0}\n",
      "   200000    0.023    0.000    0.023    0.000 {hash}\n",
      "       20    0.000    0.000    0.000    0.000 {math.log}\n",
      "       20    0.000    0.000    0.000    0.000 {math.pow}\n",
      "       20    0.000    0.000    0.000    0.000 {method 'append' of 'list' objects}\n",
      "   200000    0.113    0.000    0.113    0.000 {method 'digest' of '_hashlib.HASH' objects}\n",
      "        1    0.000    0.000    0.000    0.000 {method 'disable' of '_lsprof.Profiler' objects}\n",
      "       43    0.000    0.000    0.000    0.000 {method 'getrandbits' of '_random.Random' objects}\n",
      "       20    0.000    0.000    0.000    0.000 {sum}\n",
      "\n",
      "\n"
     ]
    }
   ],
   "source": [
    "cProfile.run('measure_add(hll_impl=HLL2)')"
   ]
  },
  {
   "cell_type": "markdown",
   "metadata": {},
   "source": [
    "On my laptop, HLL2 is about 3-4 times faster than HLL1."
   ]
  },
  {
   "cell_type": "markdown",
   "metadata": {},
   "source": [
    "## Memory Consumption\n",
    "We have an idea of the speed performance of our first two HLL implementations. Let's look now at the memory they consume (which can be an even more important aspect of HLLs).\n",
    "\n",
    "It's difficult to measure the size taken by data structures in Python. The approach I take here is to dump the HLL registers to a file and (manually) get the size of the file, which I hope is a fairly accurate way of estimating the memory footprint used by the registers in practice. "
   ]
  },
  {
   "cell_type": "code",
   "execution_count": 63,
   "metadata": {
    "collapsed": false
   },
   "outputs": [
    {
     "name": "stdout",
     "output_type": "stream",
     "text": [
      "memory footprint of HLL1: 2140 B\n",
      "memory footprint of HLL2: 2159 B\n"
     ]
    }
   ],
   "source": [
    "import cPickle\n",
    "\n",
    "print 'memory footprint of HLL1:', len(cPickle.dumps(HLL1(10), protocol=2)), 'B'\n",
    "print 'memory footprint of HLL2:', len(cPickle.dumps(HLL2(10), protocol=2)), 'B'"
   ]
  },
  {
   "cell_type": "markdown",
   "metadata": {},
   "source": [
    "In my case, for $p=10$ (and so $m=1024$ registers) the pickled HLL1 and HLL2 respectively take 2140 and 2159 bytes, which corresponds to approximately 2 bytes per register, plus some overhead.\n",
    "Of course, this is inefficient, as each register needs only to store a quantity that is less than $H - p$, where $H$ is the length of the hash. If we take $H=64$, then using 6 bits per register is enough (irrespective of $p$)."
   ]
  },
  {
   "cell_type": "markdown",
   "metadata": {},
   "source": [
    "### A Version Optimized for Memory Consumption\n",
    "Let's try now to use only the required number of bits for the registers. First, I define some helper functions to map from int to bit string representation and back:"
   ]
  },
  {
   "cell_type": "code",
   "execution_count": 64,
   "metadata": {
    "collapsed": false
   },
   "outputs": [],
   "source": [
    "# utility functions for bitarray <--> int conversions, assuming big endian\n",
    "def repr_to_int(ar):\n",
    "    \"\"\" Unfortunately for style, it's be possible to make this method slightly faster by writing this as a for loop.\n",
    "        But impact is not huge and I'd rather not doing it.\n",
    "    \"\"\"\n",
    "    return reduce(lambda nr, bit: (nr << 1) | bit, ar, 0)\n",
    "        \n",
    "def int_to_repr(number, nr_bits):\n",
    "    return bitarray(map(lambda i: number & (1 << (nr_bits - i - 1)), xrange(nr_bits)))"
   ]
  },
  {
   "cell_type": "code",
   "execution_count": 65,
   "metadata": {
    "collapsed": false
   },
   "outputs": [],
   "source": [
    "# Memory efficient implementation; first attempt\n",
    "from bitarray import bitarray\n",
    "\n",
    "class HLL3(HLL):\n",
    "    def __init__(self, p, nr_bits=6):\n",
    "        super(HLL3, self).__init__(p, nr_bits)\n",
    "        self.nr_bits = nr_bits\n",
    "        self.registers = bitarray([False for _ in xrange(self.m * nr_bits)])\n",
    "        self.registerMask = (1 << p) - 1\n",
    "        \n",
    "    def add(self, item):\n",
    "        h = hash(hashlib.md5(str(item)).digest())  # TODO: improve; this is not satisfying (native hash is nonuniform)\n",
    "        if h < 0: h = -h  # for easier bitwise operations\n",
    "        \n",
    "        j = h & self.registerMask\n",
    "        si = j*self.nr_bits  # stream index in our bitarray\n",
    "\n",
    "        for i in xrange(64 - self.p):\n",
    "            if(h & (1 << self.p + i)) > 0:\n",
    "                break\n",
    "                \n",
    "        # compute small int representation using 'nr_bits' only\n",
    "        existing = repr_to_int(self.registers[si:si+self.nr_bits])  # one could avoid this function call for speed\n",
    "        # self.update_registers(si, i+1 if i+1 > existing else existing)\n",
    "        self.registers[si:si+self.nr_bits] = int_to_repr(i+1 if i+1 > existing else existing, self.nr_bits)\n",
    "    \n",
    "    def estimate(self):\n",
    "        Z = 1.0/sum([2.0 ** (-1.0 * repr_to_int(Mj)) for Mj in zip(*(iter(self.registers),) * self.nr_bits)])\n",
    "        E = self.alpha * self.m ** 2 * Z\n",
    "        \n",
    "        # small-range corrections:\n",
    "        if E <= 2.5 * self.m:\n",
    "            V = sum([1 for i in xrange(self.m) if self.registers[i] == 0])\n",
    "            if V > 0:\n",
    "                E = self.m * math.log(float(self.m)/float(V))\n",
    "        return E"
   ]
  },
  {
   "cell_type": "markdown",
   "metadata": {},
   "source": [
    "I've used a `bitarray` for the registers here. It's also possible (and actually slightly faster) to implement this with a regular boolean array, but as far as I've seen Python uses 1 byte to represent booleans, which means that the memory consumption is about 8 times higher (!).\n",
    "\n",
    "So how does the `bitarray` perform in terms of speed and memory consumption?"
   ]
  },
  {
   "cell_type": "code",
   "execution_count": 67,
   "metadata": {
    "collapsed": false
   },
   "outputs": [
    {
     "name": "stdout",
     "output_type": "stream",
     "text": [
      "memory footprint of HLL3: 912 B\n",
      "\n",
      "         4164128 function calls in 2.727 seconds\n",
      "\n",
      "   Ordered by: standard name\n",
      "\n",
      "   ncalls  tottime  percall  cumtime  percall filename:lineno(function)\n",
      "       20    0.000    0.000    0.000    0.000 <ipython-input-37-17b02e269e7e>:6(__init__)\n",
      "        1    0.097    0.097    2.727    2.727 <ipython-input-60-d673a0288259>:10(measure_add)\n",
      "   220480    0.091    0.000    0.584    0.000 <ipython-input-64-5c48793a5651>:2(repr_to_int)\n",
      "  1322880    0.210    0.000    0.210    0.000 <ipython-input-64-5c48793a5651>:6(<lambda>)\n",
      "   200000    0.242    0.000    0.809    0.000 <ipython-input-64-5c48793a5651>:8(int_to_repr)\n",
      "  1200000    0.250    0.000    0.250    0.000 <ipython-input-64-5c48793a5651>:9(<lambda>)\n",
      "   200000    0.949    0.000    2.563    0.000 <ipython-input-65-24e85083cf61>:11(add)\n",
      "       20    0.008    0.000    0.056    0.003 <ipython-input-65-24e85083cf61>:27(estimate)\n",
      "       20    0.009    0.000    0.009    0.000 <ipython-input-65-24e85083cf61>:5(__init__)\n",
      "        1    0.000    0.000    2.727    2.727 <string>:1(<module>)\n",
      "        1    0.000    0.000    0.000    0.000 random.py:100(seed)\n",
      "       20    0.000    0.000    0.000    0.000 random.py:175(randrange)\n",
      "       20    0.000    0.000    0.000    0.000 random.py:238(randint)\n",
      "       20    0.000    0.000    0.000    0.000 random.py:244(_randbelow)\n",
      "   200000    0.146    0.000    0.146    0.000 {_hashlib.openssl_md5}\n",
      "        1    0.000    0.000    0.000    0.000 {function seed at 0x103ac78c0}\n",
      "   200000    0.021    0.000    0.021    0.000 {hash}\n",
      "       20    0.000    0.000    0.000    0.000 {iter}\n",
      "   200000    0.317    0.000    0.567    0.000 {map}\n",
      "       20    0.000    0.000    0.000    0.000 {math.log}\n",
      "       20    0.000    0.000    0.000    0.000 {math.pow}\n",
      "       20    0.000    0.000    0.000    0.000 {method 'append' of 'list' objects}\n",
      "   200000    0.100    0.000    0.100    0.000 {method 'digest' of '_hashlib.HASH' objects}\n",
      "        1    0.000    0.000    0.000    0.000 {method 'disable' of '_lsprof.Profiler' objects}\n",
      "       43    0.000    0.000    0.000    0.000 {method 'getrandbits' of '_random.Random' objects}\n",
      "   220480    0.283    0.000    0.493    0.000 {reduce}\n",
      "       20    0.000    0.000    0.000    0.000 {sum}\n",
      "       20    0.002    0.000    0.002    0.000 {zip}\n",
      "\n",
      "\n"
     ]
    },
    {
     "data": {
      "image/png": "[encoded data removed]",
      "text/plain": [
       "<matplotlib.figure.Figure at 0x106fb6610>"
      ]
     },
     "metadata": {},
     "output_type": "display_data"
    }
   ],
   "source": [
    "print 'memory footprint of HLL3:', len(cPickle.dumps(HLL3(10), protocol=2)), 'B\\n'\n",
    "cProfile.run('measure_add(hll_impl=HLL3)')\n",
    "measure_add(hll_impl=HLL3, plot=True, nr_experiments=100, N=40000, p=11)"
   ]
  },
  {
   "cell_type": "markdown",
   "metadata": {},
   "source": [
    "In my case, storing an HLL3 with 6-bit registers takes 912 bytes, which is not so far from the 768 bytes required to store the 1024 registers alone.\n",
    "\n",
    "Note: storing only the registers takes 811 bytes, which is even closer to optimal -- the additional 101 bytes come from remaining instance variables and could be trimmed down further by implementing proper serialization (see later).\n",
    "\n",
    "Note 2: Using 5-bit registers (which are OK until cardinalities reach about $2^{32}$) allows to further reduce memory footprint to 784 bytes for storing an HLL3.\n",
    "\n",
    "Unfortunately though, HLL3 is significantly slower than HLL2, with speed more similar to HLL1.\n",
    "Let's see if we can strike a balance between memory and speed by using a full byte per register, using a Python `array` containing unsigned bytes.\n",
    "\n",
    "### Using an Array of byte"
   ]
  },
  {
   "cell_type": "code",
   "execution_count": 33,
   "metadata": {
    "collapsed": false
   },
   "outputs": [],
   "source": [
    "import array\n",
    "\n",
    "class HLL4(HLL):\n",
    "    def __init__(self, p):\n",
    "        super(HLL4, self).__init__(p)\n",
    "        self.registers = array.array('B', [0 for _ in xrange(self.m)])\n",
    "        self.registerMask = (1 << p) - 1\n",
    "            \n",
    "    def add(self, item):\n",
    "        h = hash(hashlib.md5(str(item)).digest())  # TODO: improve; this is not satisfying (native hash is nonuniform)\n",
    "        if h < 0: h = -h  # for easier bitwise operations\n",
    "        \n",
    "        j = h & self.registerMask\n",
    "        \n",
    "        for i in xrange(64 - self.p):\n",
    "            if(h & (1 << self.p + i)) > 0:\n",
    "                break\n",
    "        \n",
    "        self.registers[j] = i+1 if i+1 > self.registers[j] else self.registers[j]\n",
    "    \n",
    "    def estimate(self):\n",
    "        Z = 1.0/sum([2.0 ** (-1.0 * Mj) for Mj in self.registers])\n",
    "        E = self.alpha * self.m ** 2 * Z\n",
    "        \n",
    "        # small-range corrections:\n",
    "        if E <= 2.5 * self.m:\n",
    "            V = sum([1 for i in xrange(self.m) if self.registers[i] == 0])\n",
    "            if V > 0:\n",
    "                E = self.m * math.log(float(self.m)/float(V))\n",
    "        return E"
   ]
  },
  {
   "cell_type": "code",
   "execution_count": 68,
   "metadata": {
    "collapsed": false
   },
   "outputs": [
    {
     "name": "stdout",
     "output_type": "stream",
     "text": [
      "memory footprint: 2181 B\n",
      "\n",
      "         800248 function calls in 0.795 seconds\n",
      "\n",
      "   Ordered by: standard name\n",
      "\n",
      "   ncalls  tottime  percall  cumtime  percall filename:lineno(function)\n",
      "       20    0.000    0.000    0.000    0.000 <ipython-input-2-17b02e269e7e>:6(__init__)\n",
      "       20    0.004    0.000    0.004    0.000 <ipython-input-33-53dbfc8c0f11>:21(estimate)\n",
      "       20    0.002    0.000    0.002    0.000 <ipython-input-33-53dbfc8c0f11>:4(__init__)\n",
      "   200000    0.467    0.000    0.713    0.000 <ipython-input-33-53dbfc8c0f11>:9(add)\n",
      "        1    0.076    0.076    0.795    0.795 <ipython-input-60-d673a0288259>:10(measure_add)\n",
      "        1    0.000    0.000    0.795    0.795 <string>:1(<module>)\n",
      "        1    0.000    0.000    0.000    0.000 random.py:100(seed)\n",
      "       20    0.000    0.000    0.000    0.000 random.py:175(randrange)\n",
      "       20    0.000    0.000    0.000    0.000 random.py:238(randint)\n",
      "       20    0.000    0.000    0.000    0.000 random.py:244(_randbelow)\n",
      "   200000    0.137    0.000    0.137    0.000 {_hashlib.openssl_md5}\n",
      "        1    0.000    0.000    0.000    0.000 {function seed at 0x103ac78c0}\n",
      "   200000    0.017    0.000    0.017    0.000 {hash}\n",
      "       20    0.000    0.000    0.000    0.000 {math.log}\n",
      "       20    0.000    0.000    0.000    0.000 {math.pow}\n",
      "       20    0.000    0.000    0.000    0.000 {method 'append' of 'list' objects}\n",
      "   200000    0.091    0.000    0.091    0.000 {method 'digest' of '_hashlib.HASH' objects}\n",
      "        1    0.000    0.000    0.000    0.000 {method 'disable' of '_lsprof.Profiler' objects}\n",
      "       43    0.000    0.000    0.000    0.000 {method 'getrandbits' of '_random.Random' objects}\n",
      "       20    0.000    0.000    0.000    0.000 {sum}\n",
      "\n",
      "\n"
     ]
    }
   ],
   "source": [
    "print 'memory footprint:', len(cPickle.dumps(HLL4(10), protocol=2)), 'B\\n'\n",
    "cProfile.run('measure_add(hll_impl=HLL4)')"
   ]
  },
  {
   "cell_type": "markdown",
   "metadata": {},
   "source": [
    "HLL4 is faster than HLL3 with performance similar to HLL2. Unfortunately though, memory efficiency is not better than HLL2, as a pickled HLL4 takes 2181 bytes.\n",
    "\n",
    "### Using Numpy Arrays\n",
    "`numpy` also proposes an 8-bit int type; let's try it (the code is essentially the same)."
   ]
  },
  {
   "cell_type": "code",
   "execution_count": 34,
   "metadata": {
    "collapsed": true
   },
   "outputs": [],
   "source": [
    "import numpy as np\n",
    "\n",
    "class HLL5(HLL):\n",
    "    def __init__(self, p):\n",
    "        super(HLL5, self).__init__(p)\n",
    "        self.registers = np.zeros((self.m,), dtype=np.int8)\n",
    "        self.registerMask = (1 << p) - 1\n",
    "            \n",
    "    def add(self, item):\n",
    "        h = hash(hashlib.md5(str(item)).digest())  # TODO: improve; this is not satisfying (native hash is nonuniform)\n",
    "        if h < 0: h = -h  # for easier bitwise operations\n",
    "        \n",
    "        j = h & self.registerMask\n",
    "        \n",
    "        for i in xrange(64 - self.p):\n",
    "            if(h & (1 << self.p + i)) > 0:\n",
    "                break\n",
    "        \n",
    "        self.registers[j] = i+1 if i+1 > self.registers[j] else self.registers[j]\n",
    "    \n",
    "    def estimate(self):\n",
    "        Z = 1.0/sum([2.0 ** (-1.0 * Mj) for Mj in self.registers])\n",
    "        E = self.alpha * self.m ** 2 * Z\n",
    "        \n",
    "        # small-range corrections:\n",
    "        if E <= 2.5 * self.m:\n",
    "            V = sum([1 for i in xrange(self.m) if self.registers[i] == 0])\n",
    "            if V > 0:\n",
    "                E = self.m * math.log(float(self.m)/float(V))     \n",
    "        return E"
   ]
  },
  {
   "cell_type": "code",
   "execution_count": 69,
   "metadata": {
    "collapsed": false
   },
   "outputs": [
    {
     "name": "stdout",
     "output_type": "stream",
     "text": [
      "memory footprint: 1258 B\n",
      "\n",
      "         800268 function calls in 1.324 seconds\n",
      "\n",
      "   Ordered by: standard name\n",
      "\n",
      "   ncalls  tottime  percall  cumtime  percall filename:lineno(function)\n",
      "       20    0.000    0.000    0.000    0.000 <ipython-input-2-17b02e269e7e>:6(__init__)\n",
      "       20    0.035    0.002    0.036    0.002 <ipython-input-34-255afb9d67eb>:21(estimate)\n",
      "       20    0.000    0.000    0.000    0.000 <ipython-input-34-255afb9d67eb>:4(__init__)\n",
      "   200000    0.917    0.000    1.194    0.000 <ipython-input-34-255afb9d67eb>:9(add)\n",
      "        1    0.094    0.094    1.324    1.324 <ipython-input-60-d673a0288259>:10(measure_add)\n",
      "        1    0.000    0.000    1.324    1.324 <string>:1(<module>)\n",
      "        1    0.000    0.000    0.000    0.000 random.py:100(seed)\n",
      "       20    0.000    0.000    0.000    0.000 random.py:175(randrange)\n",
      "       20    0.000    0.000    0.000    0.000 random.py:238(randint)\n",
      "       20    0.000    0.000    0.000    0.000 random.py:244(_randbelow)\n",
      "   200000    0.158    0.000    0.158    0.000 {_hashlib.openssl_md5}\n",
      "        1    0.000    0.000    0.000    0.000 {function seed at 0x103ac78c0}\n",
      "   200000    0.018    0.000    0.018    0.000 {hash}\n",
      "       20    0.000    0.000    0.000    0.000 {math.log}\n",
      "       20    0.000    0.000    0.000    0.000 {math.pow}\n",
      "       20    0.000    0.000    0.000    0.000 {method 'append' of 'list' objects}\n",
      "   200000    0.101    0.000    0.101    0.000 {method 'digest' of '_hashlib.HASH' objects}\n",
      "        1    0.000    0.000    0.000    0.000 {method 'disable' of '_lsprof.Profiler' objects}\n",
      "       43    0.000    0.000    0.000    0.000 {method 'getrandbits' of '_random.Random' objects}\n",
      "       20    0.000    0.000    0.000    0.000 {numpy.core.multiarray.zeros}\n",
      "       20    0.001    0.000    0.001    0.000 {sum}\n",
      "\n",
      "\n"
     ]
    }
   ],
   "source": [
    "print 'memory footprint:', len(cPickle.dumps(HLL5(10), protocol=2)), 'B\\n'\n",
    "cProfile.run('measure_add(hll_impl=HLL5)')"
   ]
  },
  {
   "cell_type": "markdown",
   "metadata": {},
   "source": [
    "HLL5 performs a bit slower than HLL4, but requires less memory -- 1258 bytes in my case.\n",
    "\n",
    "### Small Memory and High Insertion Speed\n",
    "Let's now try to use `array` for computation and `bitarray` for serialization."
   ]
  },
  {
   "cell_type": "code",
   "execution_count": 35,
   "metadata": {
    "collapsed": false
   },
   "outputs": [],
   "source": [
    "import array\n",
    "\n",
    "class HLL6(HLL):\n",
    "    def __init__(self, p, nr_bits=6):\n",
    "        super(HLL6, self).__init__(p, nr_bits)\n",
    "        self.registers = array.array('B', [0 for _ in xrange(self.m)])\n",
    "        self.registerMask = (1 << p) - 1\n",
    "            \n",
    "    def add(self, item):\n",
    "        h = hash(hashlib.md5(str(item)).digest())  # TODO: improve; this is not satisfying (native hash is nonuniform)\n",
    "        if h < 0: h = -h  # for easier bitwise operations\n",
    "\n",
    "        j = h & self.registerMask\n",
    "        \n",
    "        for i in xrange(64 - self.p):\n",
    "            if(h & (1 << self.p + i)) > 0:\n",
    "                break\n",
    "        \n",
    "        self.registers[j] = i+1 if i+1 > self.registers[j] else self.registers[j]\n",
    "    \n",
    "    def estimate(self):\n",
    "        Z = 1.0/sum([2.0 ** (-1.0 * Mj) for Mj in self.registers])\n",
    "        E = self.alpha * self.m ** 2 * Z\n",
    "        \n",
    "        # small-range corrections:\n",
    "        if E <= 2.5 * self.m:\n",
    "            V = sum([1 for i in xrange(self.m) if self.registers[i] == 0])\n",
    "            if V > 0:\n",
    "                E = self.m * math.log(float(self.m)/float(V))\n",
    "        return E\n",
    "    \n",
    "    def __setstate__(self, odict):\n",
    "        p = odict['p']\n",
    "        nr_bits = odict['nr_bits']\n",
    "        super(HLL6, self).__init__(p, nr_bits)\n",
    "        expandedRegs = [repr_to_int(odict['registers'][nr_bits*i:nr_bits*(i+1)]) for i in xrange(self.m)]\n",
    "        self.registers = array.array('B', expandedRegs)\n",
    "        self.registerMask = (1 << p) - 1\n",
    "    \n",
    "    def __getstate__(self):\n",
    "        compactRegs = bitarray([False for _ in xrange(self.m * self.nr_bits)])\n",
    "        for i in xrange(self.m):\n",
    "            compactRegs[self.nr_bits*i:self.nr_bits*(i+1)] = int_to_repr(self.registers[i], self.nr_bits)\n",
    "        return {'registers': compactRegs, 'p': self.p, 'nr_bits': self.nr_bits}"
   ]
  },
  {
   "cell_type": "code",
   "execution_count": 70,
   "metadata": {
    "collapsed": false
   },
   "outputs": [
    {
     "name": "stdout",
     "output_type": "stream",
     "text": [
      "memory footprint: 869 B\n",
      "\n",
      "         800248 function calls in 0.827 seconds\n",
      "\n",
      "   Ordered by: standard name\n",
      "\n",
      "   ncalls  tottime  percall  cumtime  percall filename:lineno(function)\n",
      "       20    0.000    0.000    0.000    0.000 <ipython-input-2-17b02e269e7e>:6(__init__)\n",
      "       20    0.004    0.000    0.004    0.000 <ipython-input-35-a67aa1787767>:21(estimate)\n",
      "       20    0.003    0.000    0.003    0.000 <ipython-input-35-a67aa1787767>:4(__init__)\n",
      "   200000    0.482    0.000    0.740    0.000 <ipython-input-35-a67aa1787767>:9(add)\n",
      "        1    0.079    0.079    0.827    0.827 <ipython-input-60-d673a0288259>:10(measure_add)\n",
      "        1    0.000    0.000    0.827    0.827 <string>:1(<module>)\n",
      "        1    0.000    0.000    0.000    0.000 random.py:100(seed)\n",
      "       20    0.000    0.000    0.000    0.000 random.py:175(randrange)\n",
      "       20    0.000    0.000    0.000    0.000 random.py:238(randint)\n",
      "       20    0.000    0.000    0.000    0.000 random.py:244(_randbelow)\n",
      "   200000    0.140    0.000    0.140    0.000 {_hashlib.openssl_md5}\n",
      "        1    0.000    0.000    0.000    0.000 {function seed at 0x103ac78c0}\n",
      "   200000    0.019    0.000    0.019    0.000 {hash}\n",
      "       20    0.000    0.000    0.000    0.000 {math.log}\n",
      "       20    0.000    0.000    0.000    0.000 {math.pow}\n",
      "       20    0.000    0.000    0.000    0.000 {method 'append' of 'list' objects}\n",
      "   200000    0.100    0.000    0.100    0.000 {method 'digest' of '_hashlib.HASH' objects}\n",
      "        1    0.000    0.000    0.000    0.000 {method 'disable' of '_lsprof.Profiler' objects}\n",
      "       43    0.000    0.000    0.000    0.000 {method 'getrandbits' of '_random.Random' objects}\n",
      "       20    0.000    0.000    0.000    0.000 {sum}\n",
      "\n",
      "\n"
     ]
    }
   ],
   "source": [
    "print 'memory footprint:', len(cPickle.dumps(HLL6(10, 6), protocol=2)), 'B\\n'\n",
    "cProfile.run('measure_add(hll_impl=HLL6)')"
   ]
  },
  {
   "cell_type": "markdown",
   "metadata": {},
   "source": [
    "Let's also quickly check that our serialization actually works:"
   ]
  },
  {
   "cell_type": "code",
   "execution_count": 20,
   "metadata": {
    "collapsed": false
   },
   "outputs": [
    {
     "name": "stdout",
     "output_type": "stream",
     "text": [
      "estimate: 10243.9036956\n",
      "estimate from pickled version: 10243.9036956\n"
     ]
    }
   ],
   "source": [
    "hll = HLL6(10, 6)\n",
    "for i in xrange(10000):\n",
    "    hll.add(i)\n",
    "print 'estimate:', hll.estimate()\n",
    "with open('hll6.pkl', 'wb') as f:\n",
    "    cPickle.dump(hll, f)\n",
    "with open('hll6.pkl', 'rb') as f:\n",
    "    hll_pickled = cPickle.load(f)\n",
    "print 'estimate from pickled version:', hll_pickled.estimate()"
   ]
  },
  {
   "cell_type": "markdown",
   "metadata": {},
   "source": [
    "It should work. So HLL6 is fast for adding elements, and serializes into a compact version that takes 869 bytes to store 1024 6-bit registers, $p$ and the number of bits per register.\n",
    "\n",
    "Note however that there is additional overhead for serialization now. Depending on the use case (eg., whether one does frequent additions with the HLL in memory, or frequent write/read of the HLL to disk), one may want to go for one of the other options proposed above.\n",
    "Also, I've focused on addition of new elements for performance, but it could be the case that estimation are required more often and are important as well. I'll try to assess performance of estimations at some point."
   ]
  },
  {
   "cell_type": "code",
   "execution_count": null,
   "metadata": {
    "collapsed": true
   },
   "outputs": [],
   "source": []
  }
 ],
 "metadata": {
  "kernelspec": {
   "display_name": "Python 2",
   "language": "python",
   "name": "python2"
  },
  "language_info": {
   "codemirror_mode": {
    "name": "ipython",
    "version": 2
   },
   "file_extension": ".py",
   "mimetype": "text/x-python",
   "name": "python",
   "nbconvert_exporter": "python",
   "pygments_lexer": "ipython2",
   "version": "2.7.11"
  }
 },
 "nbformat": 4,
 "nbformat_minor": 0
}
